{
 "cells": [
  {
   "cell_type": "code",
   "execution_count": 3,
   "metadata": {},
   "outputs": [],
   "source": [
    "import numpy as np\n",
    "import pandas as pd\n",
    "from scipy.stats import norm\n",
    "import copy\n",
    "\n"
   ]
  },
  {
   "cell_type": "code",
   "execution_count": 4,
   "metadata": {},
   "outputs": [
    {
     "name": "stdout",
     "output_type": "stream",
     "text": [
      "2\n",
      "mean is  200\t100\n",
      "\n"
     ]
    },
    {
     "data": {
      "text/plain": [
       "array([[0.7, 0.3],\n",
       "       [0.1, 0.9]])"
      ]
     },
     "execution_count": 4,
     "metadata": {},
     "output_type": "execute_result"
    }
   ],
   "source": [
    "f= open(\"parameters.txt\",\"r\")\n",
    "n= int(f.readline())\n",
    "print(n)\n",
    "transitionMatrix= np.empty([n,n])\n",
    "for  i in range(n):\n",
    "    str = f.readline()\n",
    "    l=[np.double(p) for p in str.split()]\n",
    "    transitionMatrix[i] = l\n",
    "# transitionMatrix= np.asmatrix(transitionMatrix)\n",
    "\n",
    "Mean= f.readline()\n",
    "print( \"mean is \",Mean)\n",
    "Mean=[np.double(p) for p in Mean.split()]\n",
    "Variance = f.readline()\n",
    "Variance=[np.double(p) for p in Variance.split()]\n",
    "transitionMatrix"
   ]
  },
  {
   "cell_type": "code",
   "execution_count": 5,
   "metadata": {},
   "outputs": [
    {
     "name": "stdout",
     "output_type": "stream",
     "text": [
      "[[0.7 0.3]\n",
      " [0.1 0.9]]\n",
      "[[0.25 0.75]\n",
      " [0.25 0.75]]\n"
     ]
    }
   ],
   "source": [
    "def initialEstimator(mat):\n",
    "    mat1= copy.deepcopy(mat)   \n",
    "    for i in range(20):\n",
    "        mat1= mat1 @ mat1\n",
    "    # print(np.isclose(mat1, mat1[0]).all())\n",
    "    print(mat1)\n",
    "    return mat1[0]\n",
    "\n",
    "\n",
    "initial= initialEstimator(transitionMatrix)\n",
    "\n"
   ]
  },
  {
   "cell_type": "code",
   "execution_count": 6,
   "metadata": {},
   "outputs": [],
   "source": [
    "dataFile = open(\"data.txt\",\"r\")\n",
    "data= np.double(dataFile.readlines())\n",
    "\n",
    "dataSize = len(data)\n",
    "emissionMatrix=np.empty((n,dataSize))\n",
    "for i in range(n):\n",
    "    emissionMatrix[i]= norm(Mean[i],np.sqrt(Variance[i])).pdf(data)\n",
    "\n",
    "emissionMatrix=np.asmatrix(emissionMatrix).T\n",
    "emissionMatrix.shape\n",
    "np.savetxt(\"emissionMatrix.txt\",emissionMatrix,delimiter=' ')\n"
   ]
  },
  {
   "cell_type": "code",
   "execution_count": 82,
   "metadata": {},
   "outputs": [
    {
     "name": "stdout",
     "output_type": "stream",
     "text": [
      "[-68295.49751944 -67780.52661432]\n"
     ]
    }
   ],
   "source": [
    "dpTable= np.zeros([dataSize,n]) #dpTable size 2x1000\n",
    "backTrack = np.zeros([dataSize,n])\n",
    "for i in range(n):\n",
    "    dpTable[0,i]=np.log(initial[i]) + np.log( emissionMatrix[0,i])\n",
    "for i in range(1,dataSize):\n",
    "    for  s in range (n):\n",
    "        max=-np.Infinity\n",
    "        prev=-1\n",
    "        for k in range(n):\n",
    "            temp= dpTable[i-1,k] + np.log(emissionMatrix[i,s]) + np.log(transitionMatrix[k,s])\n",
    "            if ( temp > max) : \n",
    "                max = temp\n",
    "                prev= k        \n",
    "        dpTable[i][s] = max\n",
    "        backTrack[i][s]= int(prev)\n",
    "\n",
    "ans =[]\n",
    "ansIndex = int(np.argmax(np.array(dpTable[dataSize-1])))\n",
    "ans.append(ansIndex)\n",
    "for  i in range(dataSize-2,0,-1):\n",
    "    # print(i ,ansIndex)\n",
    "    ansIndex= backTrack[i,int(ansIndex)]\n",
    "    ans.append(ansIndex)\n",
    "\n",
    "ans= np.array(ans)\n",
    "ans =np.flip(ans)\n",
    "# print(\"after flip\" ,ans)\n",
    "ans= ans.tolist()\n",
    "\n",
    "# print(ans)\n",
    "for i in range(len(ans)):\n",
    "    if ans[i]==0:\n",
    "        ans[i]=\"El Nino\"\n",
    "    else :\n",
    "        ans[i]= \"La Nina\"\n",
    "np.savetxt(\"dpTable.txt\",dpTable,delimiter=' ')\n",
    "# np.savetxt(\"vitebriOutput.txt\",ans,delimiter=\"\\n\")\n",
    "with open('vitebriOutput.txt', 'w') as f:\n",
    "    for item in ans:\n",
    "        f.write(\"\\\"%s\\\"\\n\" % item)\n",
    "\n",
    "        \n",
    "\n"
   ]
  },
  {
   "cell_type": "code",
   "execution_count": 60,
   "metadata": {},
   "outputs": [
    {
     "data": {
      "text/plain": [
       "array([[1.05803429e-198, 1.00000000e+000],\n",
       "       [3.12963336e-226, 1.00000000e+000],\n",
       "       [1.30526483e-213, 1.00000000e+000],\n",
       "       ...,\n",
       "       [5.31489971e-006, 9.99994685e-001],\n",
       "       [1.00117350e-235, 1.00000000e+000],\n",
       "       [2.24376601e-224, 1.00000000e+000]])"
      ]
     },
     "execution_count": 60,
     "metadata": {},
     "output_type": "execute_result"
    }
   ],
   "source": [
    "def forwardCalc(emission,transition,initial):\n",
    "    forward = np.zeros([dataSize,n])\n",
    "    for i in range(n):\n",
    "        forward[0,i]= initial[i]*emission[0,i]\n",
    "    \n",
    "    forward[0]= forward[0]/np.sum(forward[0])\n",
    "    \n",
    "    for i in range(1,dataSize):\n",
    "        for j in range(n):\n",
    "            forward[i,j]= (forward[i-1] @ transition[:,j] ) *emission[i,j]\n",
    "        forward[i]= forward[i]/np.sum(forward[i])\n",
    "    np.savetxt(\"forward.txt\",forward,delimiter=\" \")\n",
    "\n",
    "    return forward\n"
   ]
  },
  {
   "cell_type": "code",
   "execution_count": 61,
   "metadata": {},
   "outputs": [
    {
     "data": {
      "text/plain": [
       "array([[0.25, 0.75],\n",
       "       [0.25, 0.75],\n",
       "       [0.25, 0.75],\n",
       "       ...,\n",
       "       [0.25, 0.75],\n",
       "       [0.25, 0.75],\n",
       "       [1.  , 1.  ]])"
      ]
     },
     "execution_count": 61,
     "metadata": {},
     "output_type": "execute_result"
    }
   ],
   "source": [
    "def backwardCalc(emission,transition) :\n",
    "    backward= np.zeros([dataSize,n])\n",
    "    backward[dataSize-1]=np.ones(n)\n",
    "    \n",
    "    for i in range(dataSize-2,-1,-1):\n",
    "        for j in range(n):\n",
    "            temp= copy.deepcopy(backward[i+1])\n",
    "            for k in range(n):\n",
    "                temp[k]= temp[k]*emission[i+1,k]\n",
    "            # backward[i,j]= (backward[i+1] * emission[i+1,:])@transition[j,:] \n",
    "            backward[i,j]= temp@transition[j,:] \n",
    "\n",
    "        backward[i]= backward[i]/np.sum(backward[i])\n",
    "    np.savetxt(\"backwardTemp.txt\",backward,delimiter=\" \")\n",
    "    return backward\n",
    "    \n"
   ]
  },
  {
   "cell_type": "code",
   "execution_count": 93,
   "metadata": {},
   "outputs": [
    {
     "name": "stdout",
     "output_type": "stream",
     "text": [
      "[151.91073271 118.37430848]\n",
      "[ 1.37402556 23.45636704]\n"
     ]
    }
   ],
   "source": [
    "forward = forwardCalc(emissionMatrix,transitionMatrix,initial)\n",
    "backward = backwardCalc(emissionMatrix,transitionMatrix)\n",
    "\n",
    "piStar =np.zeros([dataSize,n])\n",
    "for i in range(dataSize):\n",
    "    for  j in range(n):\n",
    "        piStar[i,j]=forward[i,j]* backward[i,j]\n",
    "    piStar[i]=piStar[i]/np.sum(piStar[i])\n",
    "\n",
    "\n",
    "meanList= np.zeros(n)\n",
    "SDlist=np.zeros(n)\n",
    "for i in range(n):\n",
    "    mul = piStar[:,i] *data\n",
    "    sum = np.sum(piStar[:,i])\n",
    "    meanList[i]= np.sum(mul)/sum\n",
    "print(meanList)\n",
    "\n",
    "for i in range(n):\n",
    "    mul = piStar[:,i] *(data-meanList[i])**2\n",
    "    sum = np.sum(piStar[:,i])\n",
    "    SDlist[i]= np.sqrt(np.sum(mul)/sum)\n",
    "print(SDlist)\n"
   ]
  },
  {
   "cell_type": "code",
   "execution_count": 90,
   "metadata": {},
   "outputs": [
    {
     "name": "stdout",
     "output_type": "stream",
     "text": [
      "1.0\n",
      "[[0.46127025 0.53872975]\n",
      " [0.22031122 0.77968878]]\n"
     ]
    }
   ],
   "source": [
    "piDoubleStar = np.zeros([dataSize-1,n,n])\n",
    "for i in range(dataSize-1):\n",
    "    for k in range(n):\n",
    "        for l in range(n):\n",
    "            piDoubleStar[i,k,l]=forward[i,k] * backward[i+1,l] * emissionMatrix[i+1,l]* transitionMatrix[k,l]\n",
    "    piDoubleStar[i]=piDoubleStar[i]/np.sum(piDoubleStar[i])\n",
    "# np.savetxt(\"piDoubleStar.txt\",piDoubleStar,delimiter=\" \")\n",
    "\n",
    "# for  element in piDoubleStar :\n",
    "#     print(element)\n",
    "\n",
    "print(piDoubleStar[1,1,1])  \n",
    "ans=np.zeros([n,n])\n",
    "for i in range(dataSize-1):\n",
    "    for  k in range(n):\n",
    "        for l in range(n):\n",
    "            ans[k,l]=ans[k,l]+piDoubleStar[i,k,l]\n",
    "\n",
    "for i in range(n):\n",
    "    ans[i]= ans[i]/np.sum(ans[i])\n",
    "print(ans)\n",
    "\n"
   ]
  },
  {
   "cell_type": "code",
   "execution_count": null,
   "metadata": {},
   "outputs": [],
   "source": []
  }
 ],
 "metadata": {
  "interpreter": {
   "hash": "31f2aee4e71d21fbe5cf8b01ff0e069b9275f58929596ceb00d14d90e3e16cd6"
  },
  "kernelspec": {
   "display_name": "Python 3.8.10 64-bit",
   "language": "python",
   "name": "python3"
  },
  "language_info": {
   "codemirror_mode": {
    "name": "ipython",
    "version": 3
   },
   "file_extension": ".py",
   "mimetype": "text/x-python",
   "name": "python",
   "nbconvert_exporter": "python",
   "pygments_lexer": "ipython3",
   "version": "3.8.10"
  },
  "orig_nbformat": 4
 },
 "nbformat": 4,
 "nbformat_minor": 2
}
