{
 "cells": [
  {
   "cell_type": "code",
   "execution_count": 33,
   "metadata": {},
   "outputs": [],
   "source": [
    "import numpy as np\n",
    "import pandas as pd\n",
    "from scipy.stats import norm\n",
    "import copy\n",
    "\n"
   ]
  },
  {
   "cell_type": "code",
   "execution_count": 72,
   "metadata": {},
   "outputs": [
    {
     "name": "stdout",
     "output_type": "stream",
     "text": [
      "2\n",
      "mean is  200\t100\n",
      "\n"
     ]
    },
    {
     "data": {
      "text/plain": [
       "array([[0.7, 0.3],\n",
       "       [0.1, 0.9]])"
      ]
     },
     "execution_count": 72,
     "metadata": {},
     "output_type": "execute_result"
    }
   ],
   "source": [
    "f= open(\"parameters.txt\",\"r\")\n",
    "n= int(f.readline())\n",
    "print(n)\n",
    "transitionMatrix= np.empty([n,n])\n",
    "for  i in range(n):\n",
    "    str = f.readline()\n",
    "    l=[np.double(p) for p in str.split()]\n",
    "    transitionMatrix[i] = l\n",
    "# transitionMatrix= np.asmatrix(transitionMatrix)\n",
    "\n",
    "Mean= f.readline()\n",
    "print( \"mean is \",Mean)\n",
    "Mean=[np.double(p) for p in Mean.split()]\n",
    "Variance = f.readline()\n",
    "Variance=[np.double(p) for p in Variance.split()]\n",
    "transitionMatrix"
   ]
  },
  {
   "cell_type": "code",
   "execution_count": 74,
   "metadata": {},
   "outputs": [
    {
     "name": "stdout",
     "output_type": "stream",
     "text": [
      "[[0.7 0.3]\n",
      " [0.1 0.9]]\n",
      "[[0.25 0.75]\n",
      " [0.25 0.75]]\n"
     ]
    },
    {
     "data": {
      "text/plain": [
       "array([0.25, 0.75])"
      ]
     },
     "execution_count": 74,
     "metadata": {},
     "output_type": "execute_result"
    }
   ],
   "source": [
    "def initialEstimator(mat):\n",
    "    mat1= copy.deepcopy(mat)\n",
    "    print(mat1)\n",
    "    # print(mat2)\n",
    "    # print(x)\n",
    "    for i in range(20):\n",
    "    # while not(np.isclose(mat1, mat1[0]).all()):\n",
    "        mat1= mat1 @ mat1\n",
    "    # print(np.isclose(mat1, mat1[0]).all())\n",
    "    print(mat1)\n",
    "    return mat1[0]\n",
    "\n",
    "\n",
    "ans= initialEstimator(transitionMatrix)\n",
    "ans =np.asarray(ans)\n",
    "temp = np.arange(3)\n",
    "\n",
    "ans\n"
   ]
  },
  {
   "cell_type": "code",
   "execution_count": 76,
   "metadata": {},
   "outputs": [
    {
     "data": {
      "text/plain": [
       "(1000, 2)"
      ]
     },
     "execution_count": 76,
     "metadata": {},
     "output_type": "execute_result"
    }
   ],
   "source": [
    "dataFile = open(\"data.txt\",\"r\")\n",
    "data= np.double(dataFile.readlines())\n",
    "\n",
    "length = len(data)\n",
    "emissionMatrix=np.empty((n,length))\n",
    "for i in range(n):\n",
    "    emissionMatrix[i]= norm(Mean[i],np.sqrt(Variance[i])).pdf(data)\n",
    "\n",
    "# emissionMatrix=np.asmatrix(emissionMatrix).T\n",
    "emissionMatrix.shape\n"
   ]
  }
 ],
 "metadata": {
  "interpreter": {
   "hash": "31f2aee4e71d21fbe5cf8b01ff0e069b9275f58929596ceb00d14d90e3e16cd6"
  },
  "kernelspec": {
   "display_name": "Python 3.8.10 64-bit",
   "language": "python",
   "name": "python3"
  },
  "language_info": {
   "codemirror_mode": {
    "name": "ipython",
    "version": 3
   },
   "file_extension": ".py",
   "mimetype": "text/x-python",
   "name": "python",
   "nbconvert_exporter": "python",
   "pygments_lexer": "ipython3",
   "version": "3.8.10"
  },
  "orig_nbformat": 4
 },
 "nbformat": 4,
 "nbformat_minor": 2
}
