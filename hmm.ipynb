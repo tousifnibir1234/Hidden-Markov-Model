{
 "cells": [
  {
   "cell_type": "code",
   "execution_count": 18,
   "metadata": {},
   "outputs": [],
   "source": [
    "import numpy as np\n",
    "import pandas as pd\n",
    "from scipy.stats import norm\n",
    "import copy\n",
    "\n"
   ]
  },
  {
   "cell_type": "code",
   "execution_count": 19,
   "metadata": {},
   "outputs": [
    {
     "name": "stdout",
     "output_type": "stream",
     "text": [
      "2\n",
      "mean is  200\t100\n",
      "\n"
     ]
    },
    {
     "data": {
      "text/plain": [
       "array([[0.7, 0.3],\n",
       "       [0.1, 0.9]])"
      ]
     },
     "execution_count": 19,
     "metadata": {},
     "output_type": "execute_result"
    }
   ],
   "source": [
    "f= open(\"parameters.txt\",\"r\")\n",
    "n= int(f.readline())\n",
    "print(n)\n",
    "transitionMatrix= np.empty([n,n])\n",
    "for  i in range(n):\n",
    "    str = f.readline()\n",
    "    l=[np.double(p) for p in str.split()]\n",
    "    transitionMatrix[i] = l\n",
    "# transitionMatrix= np.asmatrix(transitionMatrix)\n",
    "\n",
    "Mean= f.readline()\n",
    "print( \"mean is \",Mean)\n",
    "Mean=[np.double(p) for p in Mean.split()]\n",
    "Variance = f.readline()\n",
    "Variance=[np.double(p) for p in Variance.split()]\n",
    "transitionMatrix"
   ]
  },
  {
   "cell_type": "code",
   "execution_count": 20,
   "metadata": {},
   "outputs": [
    {
     "name": "stdout",
     "output_type": "stream",
     "text": [
      "[[0.7 0.3]\n",
      " [0.1 0.9]]\n",
      "[[0.25 0.75]\n",
      " [0.25 0.75]]\n"
     ]
    }
   ],
   "source": [
    "def initialEstimator(mat):\n",
    "    mat1= copy.deepcopy(mat)\n",
    "    print(mat1)\n",
    "    # print(mat2)\n",
    "    # print(x)\n",
    "    for i in range(20):\n",
    "    # while not(np.isclose(mat1, mat1[0]).all()):\n",
    "        mat1= mat1 @ mat1\n",
    "    # print(np.isclose(mat1, mat1[0]).all())\n",
    "    print(mat1)\n",
    "    return mat1[0]\n",
    "\n",
    "\n",
    "initial= initialEstimator(transitionMatrix)\n",
    "\n"
   ]
  },
  {
   "cell_type": "code",
   "execution_count": 29,
   "metadata": {},
   "outputs": [],
   "source": [
    "dataFile = open(\"data.txt\",\"r\")\n",
    "data= np.double(dataFile.readlines())\n",
    "\n",
    "dataSize = len(data)\n",
    "emissionMatrix=np.empty((n,dataSize))\n",
    "for i in range(n):\n",
    "    emissionMatrix[i]= norm(Mean[i],np.sqrt(Variance[i])).pdf(data)\n",
    "\n",
    "emissionMatrix=np.asmatrix(emissionMatrix).T\n",
    "emissionMatrix.shape\n",
    "np.savetxt(\"emissionMatrix.txt\",emissionMatrix,delimiter=' ')\n"
   ]
  },
  {
   "cell_type": "code",
   "execution_count": 82,
   "metadata": {},
   "outputs": [
    {
     "name": "stdout",
     "output_type": "stream",
     "text": [
      "[-68295.49751944 -67780.52661432]\n"
     ]
    }
   ],
   "source": [
    "dpTable= np.zeros([dataSize,n]) #dpTable size 2x1000\n",
    "backTrack = np.zeros([dataSize,n])\n",
    "for i in range(n):\n",
    "    # print(  initial[i ] ,  emissionMatrix[i,0])\n",
    "    dpTable[0,i]=np.log(initial[i]) + np.log( emissionMatrix[0,i])\n",
    "# temp1 = dpTable[0,0] + np.log(emissionMatrix[1,0]) + np.log(transitionMatrix[0,0])\n",
    "# temp2 = dpTable[0,1] + np.log(emissionMatrix[1,0]) + np.log(transitionMatrix[1,0])\n",
    "# print(temp1 ,temp2)\n",
    "\n",
    "\n",
    "for i in range(1,dataSize):\n",
    "    for  s in range (n):\n",
    "        max=-np.Infinity\n",
    "        prev=-1\n",
    "        for k in range(n):\n",
    "            temp= dpTable[i-1,k] + np.log(emissionMatrix[i,s]) + np.log(transitionMatrix[k,s])\n",
    "            if ( temp > max) : \n",
    "                max = temp\n",
    "                prev= k        \n",
    "        dpTable[i][s] = max\n",
    "        backTrack[i][s]= int(prev)\n",
    "\n",
    "print(dpTable[dataSize-1])\n",
    "ans =[]\n",
    "ansIndex = int(np.argmax(np.array(dpTable[dataSize-1])))\n",
    "ans.append(ansIndex)\n",
    "for  i in range(dataSize-2,0,-1):\n",
    "    # print(i ,ansIndex)\n",
    "    ansIndex= backTrack[i,int(ansIndex)]\n",
    "    ans.append(ansIndex)\n",
    "\n",
    "ans= np.array(ans)\n",
    "ans =np.flip(ans)\n",
    "# print(\"after flip\" ,ans)\n",
    "ans= ans.tolist()\n",
    "\n",
    "# print(ans)\n",
    "for i in range(len(ans)):\n",
    "    if ans[i]==0:\n",
    "        ans[i]=\"El Nino\"\n",
    "    else :\n",
    "        ans[i]= \"La Nina\"\n",
    "np.savetxt(\"dpTable.txt\",dpTable,delimiter=' ')\n",
    "# np.savetxt(\"vitebriOutput.txt\",ans,delimiter=\"\\n\")\n",
    "with open('vitebriOutput.txt', 'w') as f:\n",
    "    for item in ans:\n",
    "        f.write(\"\\\"%s\\\"\\n\" % item)\n",
    "\n",
    "        \n",
    "\n"
   ]
  },
  {
   "cell_type": "code",
   "execution_count": 58,
   "metadata": {},
   "outputs": [
    {
     "data": {
      "text/plain": [
       "1.0"
      ]
     },
     "execution_count": 58,
     "metadata": {},
     "output_type": "execute_result"
    }
   ],
   "source": [
    "ansIndex"
   ]
  },
  {
   "cell_type": "code",
   "execution_count": null,
   "metadata": {},
   "outputs": [],
   "source": []
  }
 ],
 "metadata": {
  "interpreter": {
   "hash": "31f2aee4e71d21fbe5cf8b01ff0e069b9275f58929596ceb00d14d90e3e16cd6"
  },
  "kernelspec": {
   "display_name": "Python 3.8.10 64-bit",
   "language": "python",
   "name": "python3"
  },
  "language_info": {
   "codemirror_mode": {
    "name": "ipython",
    "version": 3
   },
   "file_extension": ".py",
   "mimetype": "text/x-python",
   "name": "python",
   "nbconvert_exporter": "python",
   "pygments_lexer": "ipython3",
   "version": "3.8.10"
  },
  "orig_nbformat": 4
 },
 "nbformat": 4,
 "nbformat_minor": 2
}
